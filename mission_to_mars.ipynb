{
 "cells": [
  {
   "cell_type": "code",
   "execution_count": 1,
   "id": "b2e33271",
   "metadata": {},
   "outputs": [],
   "source": [
    "from splinter import Browser\n",
    "from bs4 import BeautifulSoup as bs\n",
    "from webdriver_manager.chrome import ChromeDriverManager\n",
    "import pandas as pd\n",
    "import time\n",
    "import re"
   ]
  },
  {
   "cell_type": "code",
   "execution_count": 2,
   "id": "54cfa283",
   "metadata": {},
   "outputs": [],
   "source": [
    "# Setup splinter\n",
    "executable_path = {'executable_path': ChromeDriverManager().install()}\n",
    "browser = Browser('chrome', **executable_path, headless=False)    "
   ]
  },
  {
   "cell_type": "code",
   "execution_count": 3,
   "id": "38a8a551",
   "metadata": {},
   "outputs": [
    {
     "name": "stdout",
     "output_type": "stream",
     "text": [
      "NASA's Mars Helicopter Attached to Mars 2020 Rover \n"
     ]
    }
   ],
   "source": [
    "url = 'https://redplanetscience.com/'\n",
    "browser.visit(url)\n",
    "time.sleep(1)\n",
    "html1 = browser.html\n",
    "soup = bs(html1, \"html.parser\")\n",
    "\n",
    " ## Set news paragraph by using beautiful soup to scrape first index of div & class name\n",
    "news_title = [i.text for i in soup.select('div.content_title')][0]\n",
    "\n",
    "print(news_title)"
   ]
  },
  {
   "cell_type": "code",
   "execution_count": 4,
   "id": "617d79bb",
   "metadata": {},
   "outputs": [
    {
     "name": "stdout",
     "output_type": "stream",
     "text": [
      "In time-lapse video, taken at JPL, captures the first time NASA's Mars 2020 rover carries its full weight on its legs and wheels.\n"
     ]
    }
   ],
   "source": [
    "url = 'https://redplanetscience.com/'\n",
    "browser.visit(url)\n",
    "time.sleep(1)\n",
    "html1 = browser.html\n",
    "soup = bs(html1, \"html.parser\")\n",
    "\n",
    " ## Set news paragraph by using beautiful soup to scrape first index of div & class name\n",
    "news_p = [i.text for i in soup.select('div.article_teaser_body')][0]\n",
    "\n",
    "print(news_p)"
   ]
  },
  {
   "cell_type": "code",
   "execution_count": 5,
   "id": "5fbe156b",
   "metadata": {},
   "outputs": [
    {
     "name": "stdout",
     "output_type": "stream",
     "text": [
      "https://spaceimages-mars.com/image/featured/mars2.jpg\n"
     ]
    }
   ],
   "source": [
    "url = 'https://spaceimages-mars.com'\n",
    "browser.visit(url)\n",
    "time.sleep(1)\n",
    "html1 = browser.html\n",
    "soup = bs(html1, \"html.parser\")\n",
    "\n",
    "## Set URL by using bs to scrape first img index & getting the src URL\n",
    "featured_image_url = url + \"/\" + [i for i in soup.select('img.headerimage')][0].get('src')\n",
    "\n",
    "print(featured_image_url)"
   ]
  },
  {
   "cell_type": "code",
   "execution_count": 6,
   "id": "355f59cb",
   "metadata": {},
   "outputs": [
    {
     "name": "stdout",
     "output_type": "stream",
     "text": [
      "<table class=\"table\">\n",
      "<tbody>\n",
      "<tr>\n",
      "<th scope=\"row\"><b> Mars - Earth Comparison</b></th>\n",
      "<td><span class=\"orange\"><b> Mars</b></span></td>\n",
      "<td><span class=\"purple\"> <b>Earth </b></span> </td>\n",
      "</tr>\n",
      "<tr>\n",
      "<th scope=\"row\">Diameter:</th>\n",
      "<td><span class=\"orange\">6,779 km</span></td>\n",
      "<td><span class=\"purple\">12,742 km</span> </td>\n",
      "</tr>\n",
      "<tr>\n",
      "<th scope=\"row\">Mass:</th>\n",
      "<td><span class=\"orange\">6.39 × 10^23 kg </span></td>\n",
      "<td><span class=\"purple\">5.97 × 10^24 kg</span> </td>\n",
      "</tr>\n",
      "<tr>\n",
      "<th scope=\"row\">Moons:</th>\n",
      "<td><span class=\"orange\">2</span></td>\n",
      "<td><span class=\"purple\">1</span> </td>\n",
      "</tr>\n",
      "<tr>\n",
      "<th scope=\"row\">Distance from Sun:</th>\n",
      "<td><span class=\"orange\">227,943,824 km</span></td>\n",
      "<td><span class=\"purple\">149,598,262 km</span> </td>\n",
      "</tr>\n",
      "<tr>\n",
      "<th scope=\"row\">Length of Year:</th>\n",
      "<td><span class=\"orange\">687 Earth days</span></td>\n",
      "<td><span class=\"purple\">365.24 days</span> </td>\n",
      "</tr>\n",
      "<tr>\n",
      "<th scope=\"row\">Temperature:</th>\n",
      "<td><span class=\"orange\">-87 to -5 °C</span></td>\n",
      "<td><span class=\"purple\">\t-88 to 58°C</span> </td>\n",
      "</tr>\n",
      "</tbody>\n",
      "</table>\n"
     ]
    }
   ],
   "source": [
    "url = 'https://galaxyfacts-mars.com'\n",
    "browser.visit(url)\n",
    "\n",
    "html = browser.html\n",
    "fact_soup = bs(html, 'html.parser')\n",
    "\n",
    "factslocation = fact_soup.find('div', class_=\"diagram mt-4\")\n",
    "factTable = factslocation.find('table')\n",
    "\n",
    "facts = \"\"\n",
    "\n",
    "facts += str(factTable)\n",
    "\n",
    "print(facts)"
   ]
  },
  {
   "cell_type": "code",
   "execution_count": 7,
   "id": "9ace5be5",
   "metadata": {},
   "outputs": [
    {
     "name": "stdout",
     "output_type": "stream",
     "text": [
      "[{'img_url': 'https://marshemispheres.com/images/full.jpg', 'title': 'Cerberus Hemisphere Enhanced'}, {'img_url': 'https://marshemispheres.com/images/schiaparelli_enhanced-full.jpg', 'title': 'Schiaparelli Hemisphere Enhanced'}, {'img_url': 'https://marshemispheres.com/images/syrtis_major_enhanced-full.jpg', 'title': 'Syrtis Major Hemisphere Enhanced'}, {'img_url': 'https://marshemispheres.com/images/valles_marineris_enhanced-full.jpg', 'title': 'Valles Marineris Hemisphere Enhanced'}]\n"
     ]
    }
   ],
   "source": [
    "url = 'https://marshemispheres.com/'\n",
    "browser.visit(url)\n",
    "\n",
    "hemisphere_image_urls = []\n",
    "\n",
    "for i in range(4):\n",
    "\n",
    "    hemisphereInfo = {}\n",
    "\n",
    "    browser.find_by_css(\"a.product-item img\")[i].click()\n",
    "\n",
    "    sample = browser.links.find_by_text('Sample').first\n",
    "\n",
    "    hemisphereInfo[\"img_url\"] = sample[ 'href']\n",
    "\n",
    "    hemisphereInfo['title'] = browser.find_by_css('h2.title').text\n",
    "\n",
    "    hemisphere_image_urls.append(hemisphereInfo)\n",
    "\n",
    "    browser.back()\n",
    "\n",
    "print(hemisphere_image_urls)"
   ]
  },
  {
   "cell_type": "code",
   "execution_count": 8,
   "id": "25447733",
   "metadata": {},
   "outputs": [
    {
     "name": "stdout",
     "output_type": "stream",
     "text": [
      "{'news_title': \"NASA's Mars Helicopter Attached to Mars 2020 Rover \", 'news_summary': \"In time-lapse video, taken at JPL, captures the first time NASA's Mars 2020 rover carries its full weight on its legs and wheels.\", 'featured_image_url': 'https://spaceimages-mars.com/image/featured/mars2.jpg', 'facts_table_html': '<table class=\"table\">\\n<tbody>\\n<tr>\\n<th scope=\"row\"><b> Mars - Earth Comparison</b></th>\\n<td><span class=\"orange\"><b> Mars</b></span></td>\\n<td><span class=\"purple\"> <b>Earth </b></span> </td>\\n</tr>\\n<tr>\\n<th scope=\"row\">Diameter:</th>\\n<td><span class=\"orange\">6,779 km</span></td>\\n<td><span class=\"purple\">12,742 km</span> </td>\\n</tr>\\n<tr>\\n<th scope=\"row\">Mass:</th>\\n<td><span class=\"orange\">6.39 × 10^23 kg </span></td>\\n<td><span class=\"purple\">5.97 × 10^24 kg</span> </td>\\n</tr>\\n<tr>\\n<th scope=\"row\">Moons:</th>\\n<td><span class=\"orange\">2</span></td>\\n<td><span class=\"purple\">1</span> </td>\\n</tr>\\n<tr>\\n<th scope=\"row\">Distance from Sun:</th>\\n<td><span class=\"orange\">227,943,824 km</span></td>\\n<td><span class=\"purple\">149,598,262 km</span> </td>\\n</tr>\\n<tr>\\n<th scope=\"row\">Length of Year:</th>\\n<td><span class=\"orange\">687 Earth days</span></td>\\n<td><span class=\"purple\">365.24 days</span> </td>\\n</tr>\\n<tr>\\n<th scope=\"row\">Temperature:</th>\\n<td><span class=\"orange\">-87 to -5 °C</span></td>\\n<td><span class=\"purple\">\\t-88 to 58°C</span> </td>\\n</tr>\\n</tbody>\\n</table>', 'hemisphere_image_urls': [{'img_url': 'https://marshemispheres.com/images/full.jpg', 'title': 'Cerberus Hemisphere Enhanced'}, {'img_url': 'https://marshemispheres.com/images/schiaparelli_enhanced-full.jpg', 'title': 'Schiaparelli Hemisphere Enhanced'}, {'img_url': 'https://marshemispheres.com/images/syrtis_major_enhanced-full.jpg', 'title': 'Syrtis Major Hemisphere Enhanced'}, {'img_url': 'https://marshemispheres.com/images/valles_marineris_enhanced-full.jpg', 'title': 'Valles Marineris Hemisphere Enhanced'}]}\n"
     ]
    }
   ],
   "source": [
    "# Store results in Dictionary \n",
    "result = {\n",
    "        \"news_title\": news_title,\n",
    "        \"news_summary\": news_p,\n",
    "        \"featured_image_url\": featured_image_url,\n",
    "        \"facts_table_html\": facts,\n",
    "        \"hemisphere_image_urls\": hemisphere_image_urls\n",
    "    }\n",
    "\n",
    "# Close browser\n",
    "browser.quit()\n",
    "\n",
    "print(result)"
   ]
  }
 ],
 "metadata": {
  "kernelspec": {
   "display_name": "Python 3 (ipykernel)",
   "language": "python",
   "name": "python3"
  },
  "language_info": {
   "codemirror_mode": {
    "name": "ipython",
    "version": 3
   },
   "file_extension": ".py",
   "mimetype": "text/x-python",
   "name": "python",
   "nbconvert_exporter": "python",
   "pygments_lexer": "ipython3",
   "version": "3.9.12"
  },
  "vscode": {
   "interpreter": {
    "hash": "160054c0ae2cc7afe7c36cea519d9f18f0c101603b3cfb088bcd17f88cb3e7df"
   }
  }
 },
 "nbformat": 4,
 "nbformat_minor": 5
}
