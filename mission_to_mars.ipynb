{
 "cells": [
  {
   "cell_type": "code",
   "execution_count": 1,
   "id": "34c1f742",
   "metadata": {
    "scrolled": true
   },
   "outputs": [
    {
     "name": "stdout",
     "output_type": "stream",
     "text": [
      "Requirement already satisfied: pymongo in c:\\users\\cstit\\anaconda3\\lib\\site-packages (4.3.3)\n",
      "Requirement already satisfied: dnspython<3.0.0,>=1.16.0 in c:\\users\\cstit\\anaconda3\\lib\\site-packages (from pymongo) (2.2.1)\n",
      "Note: you may need to restart the kernel to use updated packages.\n"
     ]
    }
   ],
   "source": [
    "pip install pymongo"
   ]
  },
  {
   "cell_type": "code",
   "execution_count": 2,
   "id": "54cfa283",
   "metadata": {},
   "outputs": [],
   "source": [
    "from splinter import Browser\n",
    "from bs4 import BeautifulSoup as bs\n",
    "from webdriver_manager.chrome import ChromeDriverManager\n",
    "import pandas as pd"
   ]
  },
  {
   "cell_type": "code",
   "execution_count": 3,
   "id": "bd02114e",
   "metadata": {},
   "outputs": [
    {
     "name": "stderr",
     "output_type": "stream",
     "text": [
      "[WDM] - Downloading: 100%|████████████████████████████████████████████████████████| 6.46M/6.46M [01:46<00:00, 63.9kB/s]\n"
     ]
    }
   ],
   "source": [
    "# Setup splinter\n",
    "executable_path = {'executable_path': ChromeDriverManager().install()}\n",
    "browser = Browser('chrome', **executable_path, headless=False)"
   ]
  },
  {
   "cell_type": "code",
   "execution_count": 4,
   "id": "89b29b44",
   "metadata": {},
   "outputs": [],
   "source": [
    "import time"
   ]
  },
  {
   "cell_type": "markdown",
   "id": "373f3805",
   "metadata": {},
   "source": [
    "# # NASA Mars News\n"
   ]
  },
  {
   "cell_type": "code",
   "execution_count": 5,
   "id": "edc78d1a",
   "metadata": {
    "scrolled": true
   },
   "outputs": [
    {
     "ename": "NoSuchWindowException",
     "evalue": "Message: no such window: target window already closed\nfrom unknown error: web view not found\n  (Session info: chrome=107.0.5304.107)\nStacktrace:\nBacktrace:\n\tOrdinal0 [0x0078ACD3+2075859]\n\tOrdinal0 [0x0071EE61+1633889]\n\tOrdinal0 [0x0061B7BD+571325]\n\tOrdinal0 [0x00602E1A+470554]\n\tOrdinal0 [0x0066AA0B+895499]\n\tOrdinal0 [0x0067AC96+961686]\n\tOrdinal0 [0x00667136+880950]\n\tOrdinal0 [0x0063FEFD+720637]\n\tOrdinal0 [0x00640F3F+724799]\n\tGetHandleVerifier [0x00A3EED2+2769538]\n\tGetHandleVerifier [0x00A30D95+2711877]\n\tGetHandleVerifier [0x0081A03A+521194]\n\tGetHandleVerifier [0x00818DA0+516432]\n\tOrdinal0 [0x0072682C+1665068]\n\tOrdinal0 [0x0072B128+1683752]\n\tOrdinal0 [0x0072B215+1683989]\n\tOrdinal0 [0x00736484+1729668]\n\tBaseThreadInitThunk [0x77546939+25]\n\tRtlGetFullPathName_UEx [0x777E8FD2+1218]\n\tRtlGetFullPathName_UEx [0x777E8F9D+1165]\n",
     "output_type": "error",
     "traceback": [
      "\u001b[1;31m---------------------------------------------------------------------------\u001b[0m",
      "\u001b[1;31mNoSuchWindowException\u001b[0m                     Traceback (most recent call last)",
      "Input \u001b[1;32mIn [5]\u001b[0m, in \u001b[0;36m<cell line: 4>\u001b[1;34m()\u001b[0m\n\u001b[0;32m      2\u001b[0m browser\u001b[38;5;241m.\u001b[39mvisit(redPlanetUrl)\n\u001b[0;32m      3\u001b[0m time\u001b[38;5;241m.\u001b[39msleep(\u001b[38;5;241m1\u001b[39m)\n\u001b[1;32m----> 4\u001b[0m html1 \u001b[38;5;241m=\u001b[39m \u001b[43mbrowser\u001b[49m\u001b[38;5;241;43m.\u001b[39;49m\u001b[43mhtml\u001b[49m\n\u001b[0;32m      5\u001b[0m soup \u001b[38;5;241m=\u001b[39m bs(html1, \u001b[38;5;124m\"\u001b[39m\u001b[38;5;124mhtml.parser\u001b[39m\u001b[38;5;124m\"\u001b[39m)\n\u001b[0;32m      7\u001b[0m \u001b[38;5;66;03m## Set news title & paragraph by using beautiful soup to scrape first index of div & class name\u001b[39;00m\n",
      "File \u001b[1;32m~\\anaconda3\\lib\\site-packages\\splinter\\driver\\webdriver\\__init__.py:308\u001b[0m, in \u001b[0;36mBaseWebDriver.html\u001b[1;34m(self)\u001b[0m\n\u001b[0;32m    306\u001b[0m \u001b[38;5;129m@property\u001b[39m\n\u001b[0;32m    307\u001b[0m \u001b[38;5;28;01mdef\u001b[39;00m \u001b[38;5;21mhtml\u001b[39m(\u001b[38;5;28mself\u001b[39m):\n\u001b[1;32m--> 308\u001b[0m     \u001b[38;5;28;01mreturn\u001b[39;00m \u001b[38;5;28;43mself\u001b[39;49m\u001b[38;5;241;43m.\u001b[39;49m\u001b[43mdriver\u001b[49m\u001b[38;5;241;43m.\u001b[39;49m\u001b[43mpage_source\u001b[49m\n",
      "File \u001b[1;32m~\\anaconda3\\lib\\site-packages\\selenium\\webdriver\\remote\\webdriver.py:550\u001b[0m, in \u001b[0;36mWebDriver.page_source\u001b[1;34m(self)\u001b[0m\n\u001b[0;32m    540\u001b[0m \u001b[38;5;129m@property\u001b[39m\n\u001b[0;32m    541\u001b[0m \u001b[38;5;28;01mdef\u001b[39;00m \u001b[38;5;21mpage_source\u001b[39m(\u001b[38;5;28mself\u001b[39m) \u001b[38;5;241m-\u001b[39m\u001b[38;5;241m>\u001b[39m \u001b[38;5;28mstr\u001b[39m:\n\u001b[0;32m    542\u001b[0m     \u001b[38;5;124;03m\"\"\"\u001b[39;00m\n\u001b[0;32m    543\u001b[0m \u001b[38;5;124;03m    Gets the source of the current page.\u001b[39;00m\n\u001b[0;32m    544\u001b[0m \n\u001b[1;32m   (...)\u001b[0m\n\u001b[0;32m    548\u001b[0m \u001b[38;5;124;03m            driver.page_source\u001b[39;00m\n\u001b[0;32m    549\u001b[0m \u001b[38;5;124;03m    \"\"\"\u001b[39;00m\n\u001b[1;32m--> 550\u001b[0m     \u001b[38;5;28;01mreturn\u001b[39;00m \u001b[38;5;28;43mself\u001b[39;49m\u001b[38;5;241;43m.\u001b[39;49m\u001b[43mexecute\u001b[49m\u001b[43m(\u001b[49m\u001b[43mCommand\u001b[49m\u001b[38;5;241;43m.\u001b[39;49m\u001b[43mGET_PAGE_SOURCE\u001b[49m\u001b[43m)\u001b[49m[\u001b[38;5;124m\"\u001b[39m\u001b[38;5;124mvalue\u001b[39m\u001b[38;5;124m\"\u001b[39m]\n",
      "File \u001b[1;32m~\\anaconda3\\lib\\site-packages\\selenium\\webdriver\\remote\\webdriver.py:444\u001b[0m, in \u001b[0;36mWebDriver.execute\u001b[1;34m(self, driver_command, params)\u001b[0m\n\u001b[0;32m    442\u001b[0m response \u001b[38;5;241m=\u001b[39m \u001b[38;5;28mself\u001b[39m\u001b[38;5;241m.\u001b[39mcommand_executor\u001b[38;5;241m.\u001b[39mexecute(driver_command, params)\n\u001b[0;32m    443\u001b[0m \u001b[38;5;28;01mif\u001b[39;00m response:\n\u001b[1;32m--> 444\u001b[0m     \u001b[38;5;28;43mself\u001b[39;49m\u001b[38;5;241;43m.\u001b[39;49m\u001b[43merror_handler\u001b[49m\u001b[38;5;241;43m.\u001b[39;49m\u001b[43mcheck_response\u001b[49m\u001b[43m(\u001b[49m\u001b[43mresponse\u001b[49m\u001b[43m)\u001b[49m\n\u001b[0;32m    445\u001b[0m     response[\u001b[38;5;124m\"\u001b[39m\u001b[38;5;124mvalue\u001b[39m\u001b[38;5;124m\"\u001b[39m] \u001b[38;5;241m=\u001b[39m \u001b[38;5;28mself\u001b[39m\u001b[38;5;241m.\u001b[39m_unwrap_value(response\u001b[38;5;241m.\u001b[39mget(\u001b[38;5;124m\"\u001b[39m\u001b[38;5;124mvalue\u001b[39m\u001b[38;5;124m\"\u001b[39m, \u001b[38;5;28;01mNone\u001b[39;00m))\n\u001b[0;32m    446\u001b[0m     \u001b[38;5;28;01mreturn\u001b[39;00m response\n",
      "File \u001b[1;32m~\\anaconda3\\lib\\site-packages\\selenium\\webdriver\\remote\\errorhandler.py:249\u001b[0m, in \u001b[0;36mErrorHandler.check_response\u001b[1;34m(self, response)\u001b[0m\n\u001b[0;32m    247\u001b[0m         alert_text \u001b[38;5;241m=\u001b[39m value[\u001b[38;5;124m\"\u001b[39m\u001b[38;5;124malert\u001b[39m\u001b[38;5;124m\"\u001b[39m]\u001b[38;5;241m.\u001b[39mget(\u001b[38;5;124m\"\u001b[39m\u001b[38;5;124mtext\u001b[39m\u001b[38;5;124m\"\u001b[39m)\n\u001b[0;32m    248\u001b[0m     \u001b[38;5;28;01mraise\u001b[39;00m exception_class(message, screen, stacktrace, alert_text)  \u001b[38;5;66;03m# type: ignore[call-arg]  # mypy is not smart enough here\u001b[39;00m\n\u001b[1;32m--> 249\u001b[0m \u001b[38;5;28;01mraise\u001b[39;00m exception_class(message, screen, stacktrace)\n",
      "\u001b[1;31mNoSuchWindowException\u001b[0m: Message: no such window: target window already closed\nfrom unknown error: web view not found\n  (Session info: chrome=107.0.5304.107)\nStacktrace:\nBacktrace:\n\tOrdinal0 [0x0078ACD3+2075859]\n\tOrdinal0 [0x0071EE61+1633889]\n\tOrdinal0 [0x0061B7BD+571325]\n\tOrdinal0 [0x00602E1A+470554]\n\tOrdinal0 [0x0066AA0B+895499]\n\tOrdinal0 [0x0067AC96+961686]\n\tOrdinal0 [0x00667136+880950]\n\tOrdinal0 [0x0063FEFD+720637]\n\tOrdinal0 [0x00640F3F+724799]\n\tGetHandleVerifier [0x00A3EED2+2769538]\n\tGetHandleVerifier [0x00A30D95+2711877]\n\tGetHandleVerifier [0x0081A03A+521194]\n\tGetHandleVerifier [0x00818DA0+516432]\n\tOrdinal0 [0x0072682C+1665068]\n\tOrdinal0 [0x0072B128+1683752]\n\tOrdinal0 [0x0072B215+1683989]\n\tOrdinal0 [0x00736484+1729668]\n\tBaseThreadInitThunk [0x77546939+25]\n\tRtlGetFullPathName_UEx [0x777E8FD2+1218]\n\tRtlGetFullPathName_UEx [0x777E8F9D+1165]\n"
     ]
    }
   ],
   "source": [
    "redPlanetUrl = 'https://redplanetscience.com/'\n",
    "browser.visit(redPlanetUrl)\n",
    "time.sleep(1)\n",
    "html1 = browser.html\n",
    "soup = bs(html1, \"html.parser\")\n",
    "\n",
    "## Set news title & paragraph by using beautiful soup to scrape first index of div & class name\n",
    "news_title = [i.text for i in soup.select('div.content_title')][0]\n",
    "news_p = [i.text for i in soup.select('div.article_teaser_body')][0]\n",
    "\n",
    "print(news_title)\n",
    "print(news_p)"
   ]
  },
  {
   "cell_type": "markdown",
   "id": "b8d2d28e",
   "metadata": {},
   "source": [
    "# # JPL Mars Space Images—Featured Image\n"
   ]
  },
  {
   "cell_type": "code",
   "execution_count": null,
   "id": "834ca61a",
   "metadata": {},
   "outputs": [],
   "source": [
    "spaceImagesUrl = 'https://spaceimages-mars.com'\n",
    "browser.visit(spaceImagesUrl)\n",
    "time.sleep(1)\n",
    "html1 = browser.html\n",
    "soup = bs(html1, \"html.parser\")\n",
    "\n",
    "## Set URL by using bs to scrape first img index & getting the src URL\n",
    "featured_image_url = spaceImagesUrl + \"/\" + [i for i in soup.select('img.headerimage')][0].get('src')\n",
    "print(featured_image_url)\n"
   ]
  },
  {
   "cell_type": "markdown",
   "id": "321011e9",
   "metadata": {},
   "source": [
    "# # Mars Facts\n"
   ]
  },
  {
   "cell_type": "code",
   "execution_count": null,
   "id": "34723618",
   "metadata": {
    "scrolled": true
   },
   "outputs": [],
   "source": [
    "marsFactsUrl = 'https://galaxyfacts-mars.com'\n",
    "\n",
    "mars_facts_html = pd.read_html(marsFactsUrl)[0]\n",
    "\n",
    "print(table)"
   ]
  },
  {
   "cell_type": "markdown",
   "id": "ef34358e",
   "metadata": {},
   "source": [
    "# # Mars Hemispheres\n"
   ]
  },
  {
   "cell_type": "code",
   "execution_count": null,
   "id": "94fd1d5f",
   "metadata": {},
   "outputs": [],
   "source": [
    "hemispheresUrl = 'https://marshemispheres.com/'\n",
    "browser.visit(hemispheresUrl)\n",
    "time.sleep(1)\n",
    "html1 = browser.html\n",
    "soup = bs(html1, \"html.parser\")\n",
    "\n",
    "\n",
    "img_urls = [\n",
    "    \"<img class=\\\"wide-image\\\" src=\\\"images/f5e372a36edfa389625da6d0cc25d905_cerberus_enhanced.tif_full.jpg\\\"/>\", \n",
    "    \"<img class=\\\"wide-image\\\" src=\\\"images/3778f7b43bbbc89d6e3cfabb3613ba93_schiaparelli_enhanced.tif_full.jpg\\\"/>\",\n",
    "    \"<img class=\\\"wide-image\\\" src=\\\"images/555e6403a6ddd7ba16ddb0e471cadcf7_syrtis_major_enhanced.tif_full.jpg\\\"/>\",\n",
    "    \"<img class=\\\"wide-image\\\" src=\\\"images/b3c7c6c9138f57b4756be9b9c43e3a48_valles_marineris_enhanced.tif_full.jpg\\\"/>\"\n",
    "]\n",
    "\n",
    "titles = ['Cerberus Hemisphere', 'Schiaparelli Hemisphere', 'Syrtis Major Hemisphere', 'Valles Marineris Hemisphere']\n",
    "\n",
    "hemisphere_image_urls = []\n",
    "\n",
    "for x in range(0, len(img_urls)):\n",
    "    hemisphere_image_urls.append({\"title\": titles[0], \"img_url\": img_urls[0]})\n",
    "\n",
    "print(hemisphere_image_urls)\n",
    "\n"
   ]
  },
  {
   "cell_type": "markdown",
   "id": "0b973db0",
   "metadata": {},
   "source": [
    "## Part 2: MongoDB and Flask Application\n"
   ]
  },
  {
   "cell_type": "code",
   "execution_count": null,
   "id": "f31b1324",
   "metadata": {},
   "outputs": [],
   "source": [
    "result = {\n",
    "        \"news_title\": news_title,\n",
    "        \"news_summary\": news_p,\n",
    "        \"featured_image_url\": featured_image_url,\n",
    "        \"facts_table_html\": mars_facts_html,\n",
    "        \"hemisphere_image_urls\": hemisphere_image_urls\n",
    "    }"
   ]
  }
 ],
 "metadata": {
  "kernelspec": {
   "display_name": "Python 3 (ipykernel)",
   "language": "python",
   "name": "python3"
  },
  "language_info": {
   "codemirror_mode": {
    "name": "ipython",
    "version": 3
   },
   "file_extension": ".py",
   "mimetype": "text/x-python",
   "name": "python",
   "nbconvert_exporter": "python",
   "pygments_lexer": "ipython3",
   "version": "3.9.12"
  },
  "vscode": {
   "interpreter": {
    "hash": "160054c0ae2cc7afe7c36cea519d9f18f0c101603b3cfb088bcd17f88cb3e7df"
   }
  }
 },
 "nbformat": 4,
 "nbformat_minor": 5
}
